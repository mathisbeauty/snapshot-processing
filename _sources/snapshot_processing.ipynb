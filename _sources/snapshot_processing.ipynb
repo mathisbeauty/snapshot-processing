{
 "cells": [
  {
   "cell_type": "markdown",
   "id": "163bab32",
   "metadata": {},
   "source": [
    "# SingularityDAO snapshot processing\n",
    "\n",
    "## Scalability\n",
    "\n",
    "The main purpose of this notebook it's to explore how to automate the data processing of the snapshots.\n",
    "\n",
    "That's the reason why we are only dealing with a subset of the holders.\n",
    "\n",
    "Once the process works reliably and can be performed automatically, the next step would be to containerize it for cloud processing.\n",
    "\n",
    "In principle, the processing could be distributed by grouping all the addresses to process in batches of N addresses, and each container would calculate the eligibility per batch. Once the batch it's processed, the container would either request another one, or be destroyed if there aren't more.\n",
    "\n",
    "## Steps\n",
    "\n",
    "1. **Take Snapshots** Generate snapshots placed at random intervals and store results in a DB\n",
    "2. **Calculate Eligibility**  Categorize each address and apply custom logic depending on the airdrop's eligibility criteria \n",
    "3. **Serve To The Portal** Store eligibility of each type of airdrop per user in a DB and make it accessible to the portal\n",
    "\n",
    "\n",
    "## 1. Take Snapshots\n",
    "\n",
    "\n",
    "\n",
    "## 2. Take Snapshots\n",
    "\n",
    "\n",
    "\n",
    "## 3. Take Snapshots\n",
    "\n",
    "\n"
   ]
  }
 ],
 "metadata": {
  "kernelspec": {
   "display_name": "Python 3",
   "language": "python",
   "name": "python3"
  },
  "language_info": {
   "codemirror_mode": {
    "name": "ipython",
    "version": 3
   },
   "file_extension": ".py",
   "mimetype": "text/x-python",
   "name": "python",
   "nbconvert_exporter": "python",
   "pygments_lexer": "ipython3",
   "version": "3.8.8"
  }
 },
 "nbformat": 4,
 "nbformat_minor": 5
}
